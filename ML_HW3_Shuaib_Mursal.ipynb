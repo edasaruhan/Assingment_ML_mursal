{
 "cells": [
  {
   "cell_type": "markdown",
   "id": "e9c9e66e",
   "metadata": {},
   "source": [
    "Homework Guidelines: Building a Custom Neural Network for MNIST Digit Classification\n",
    "\n",
    "In this homework assignment, you are tasked with understanding and possibly modifying a Python script that trains a neural network to classify handwritten digits from the MNIST dataset. The provided code uses TensorFlow and Keras. Your goal is to comprehend the code and potentially make some modifications as indicated.\n",
    "\n",
    "Instructions:\n",
    "\n",
    "1 - Importing Libraries: Understand the initial part of the code where necessary libraries are imported. Ensure that you have TensorFlow and Keras installed in your environment.\n",
    "\n",
    "2- Loading the MNIST Dataset: Observe how the MNIST dataset is loaded and divided into training and testing sets. The dataset consists of images and labels.\n",
    "\n",
    "3- Data Preprocessing: Understand the normalization of pixel values to the range [0, 1]. This preprocessing step is essential for efficient model training.\n",
    "\n",
    "4- One-Hot Encoding: Comprehend the one-hot encoding process applied to the labels. It converts class labels into a binary matrix representation. Ensure that you understand the purpose of this transformation.\n",
    "\n",
    "5- Custom Dense Layer: Examine the custom dense layer definition. This layer is used within the neural network architecture and allows you to specify the number of units and activation function.\n",
    "\n",
    "    Pay attention to how weights and biases are initialized in the build method.\n",
    "    Understand how the layer performs matrix multiplication and applies the activation function in the call method.\n",
    "6- Neural Network Architecture: Analyze the definition of the neural network model. It consists of a series of layers, including custom dense layers with specified units and activation functions.\n",
    "\n",
    "    Identify the input shape for the first layer (28x28 for MNIST images).\n",
    "    Note the choice of activation functions (e.g., tf.nn.relu and tf.nn.softmax) for different layers.\n",
    "    \n",
    "7- Custom Loss Function: Study the custom loss function custom_sparse_categorical_crossentropy. This function computes the loss based on the negative log probabilities.\n",
    "\n",
    "    Understand how the negative log probabilities are calculated.\n",
    "    Observe how the mean loss across the batch is computed.\n",
    "8- Custom Accuracy Metric: Examine the custom_accuracy function, which calculates accuracy as the percentage of correct predictions.\n",
    "\n",
    "    Pay attention to how it compares predicted and true labels to determine accuracy.\n",
    "9- Model Compilation: Observe how the model is compiled using the Adam optimizer or other optimizer or you can write costum optimizer function, the custom loss function, and the custom accuracy metric.\n",
    "\n",
    "    Understand the significance of choosing appropriate optimizer and metrics for the task.\n",
    "10- Model Training: Check the training process using the model.fit method. The model is trained for a specified number of epochs and with a given batch size.\n",
    "\n",
    "11- Model Evaluation: Understand how the trained model is evaluated on the test dataset using the model.evaluate method. The test accuracy is printed as the result.\n",
    "\n",
    "Assignment Tasks (Optional):\n",
    "\n",
    "Experiment with different neural network architectures (e.g., changing the number of units, adding more layers, or trying different activation functions) to see how they affect model performance.\n",
    "\n",
    "Implement your custom loss function or metric and evaluate its impact on model training and performance.\n",
    "\n",
    "If you have a larger dataset, consider adapting this code to work with it by adjusting the input shape and the number of output units.\n",
    "\n",
    "Explore ways to visualize the model's predictions or intermediate layer activations to gain insights into its behavior."
   ]
  },
  {
   "cell_type": "markdown",
   "id": "b3b2f730",
   "metadata": {},
   "source": [
    "# Step 1: Importing Libraries"
   ]
  },
  {
   "cell_type": "code",
   "execution_count": 1,
   "id": "789c5e55",
   "metadata": {},
   "outputs": [],
   "source": [
    "import numpy as np\n",
    "import tensorflow as tf\n",
    "from tensorflow.keras.datasets import mnist\n",
    "from tensorflow.keras.utils import to_categorical\n",
    "from tensorflow.keras.models import Sequential\n",
    "from tensorflow.keras.layers import Flatten\n",
    "import keras\n",
    "from keras.layers import Dense\n",
    "\n",
    "np.random.seed(0)"
   ]
  },
  {
   "cell_type": "markdown",
   "id": "33c0d5b2",
   "metadata": {},
   "source": [
    "# Step 2: Loading the Data"
   ]
  },
  {
   "cell_type": "code",
   "execution_count": 2,
   "id": "810a0345",
   "metadata": {},
   "outputs": [
    {
     "name": "stdout",
     "output_type": "stream",
     "text": [
      "Downloading data from https://storage.googleapis.com/tensorflow/tf-keras-datasets/mnist.npz\n",
      "11490434/11490434 [==============================] - 1s 0us/step\n"
     ]
    }
   ],
   "source": [
    "(x_train, y_train),(x_test, y_test) = mnist.load_data()"
   ]
  },
  {
   "cell_type": "markdown",
   "id": "2e6e60f0",
   "metadata": {},
   "source": [
    "# Step 3 & 4: Data Preprocessing\n",
    "## 1. One-Hot Encoding"
   ]
  },
  {
   "cell_type": "code",
   "execution_count": 3,
   "id": "45002487",
   "metadata": {},
   "outputs": [],
   "source": [
    "num_classes=10\n",
    "y_train = to_categorical(y_train, num_classes)\n",
    "y_test = to_categorical(y_test, num_classes)"
   ]
  },
  {
   "cell_type": "markdown",
   "id": "623e99bd",
   "metadata": {},
   "source": [
    "## 2. Normalizing the Features"
   ]
  },
  {
   "cell_type": "code",
   "execution_count": 4,
   "id": "1ee9e389",
   "metadata": {},
   "outputs": [],
   "source": [
    "x_train = x_train / 255.0\n",
    "x_test = x_test / 255.0"
   ]
  },
  {
   "cell_type": "markdown",
   "id": "fa1218f5",
   "metadata": {},
   "source": [
    "## 3. Reshaping the Features"
   ]
  },
  {
   "cell_type": "code",
   "execution_count": 5,
   "id": "f6486487",
   "metadata": {},
   "outputs": [
    {
     "name": "stdout",
     "output_type": "stream",
     "text": [
      "(784,) (784,)\n"
     ]
    }
   ],
   "source": [
    "x_train = x_train.reshape(x_train.shape[0],-1)\n",
    "x_test = x_test.reshape(x_test.shape[0],-1)\n",
    "print(x_train[0].shape,x_test[0].shape)"
   ]
  },
  {
   "cell_type": "markdown",
   "id": "af3f86a5",
   "metadata": {},
   "source": [
    "# Steps 5 through 11: Building Custom Dense Layer"
   ]
  },
  {
   "cell_type": "code",
   "execution_count": 13,
   "id": "b31eb6f2",
   "metadata": {},
   "outputs": [
    {
     "name": "stdout",
     "output_type": "stream",
     "text": [
      "Epoch 1/10\n",
      "6000/6000 [==============================] - 28s 4ms/step - loss: 0.2163 - accuracy: 0.9344\n",
      "Epoch 2/10\n",
      "6000/6000 [==============================] - 26s 4ms/step - loss: 0.0974 - accuracy: 0.9707\n",
      "Epoch 3/10\n",
      "6000/6000 [==============================] - 25s 4ms/step - loss: 0.0703 - accuracy: 0.9782\n",
      "Epoch 4/10\n",
      "6000/6000 [==============================] - 28s 5ms/step - loss: 0.0555 - accuracy: 0.9825\n",
      "Epoch 5/10\n",
      "6000/6000 [==============================] - 27s 4ms/step - loss: 0.0455 - accuracy: 0.9853\n",
      "Epoch 6/10\n",
      "6000/6000 [==============================] - 27s 5ms/step - loss: 0.0392 - accuracy: 0.9875\n",
      "Epoch 7/10\n",
      "6000/6000 [==============================] - 26s 4ms/step - loss: 0.0343 - accuracy: 0.9893\n",
      "Epoch 8/10\n",
      "6000/6000 [==============================] - 30s 5ms/step - loss: 0.0287 - accuracy: 0.9907\n",
      "Epoch 9/10\n",
      "6000/6000 [==============================] - 27s 5ms/step - loss: 0.0274 - accuracy: 0.9917\n",
      "Epoch 10/10\n",
      "6000/6000 [==============================] - 27s 4ms/step - loss: 0.0265 - accuracy: 0.9918\n",
      "313/313 [==============================] - 3s 3ms/step - loss: 0.0981 - accuracy: 0.9770\n",
      "Test Loss: 0.09805449098348618, Test Accuracy: 0.9769999980926514\n"
     ]
    }
   ],
   "source": [
    "# This is adapted from the course notebooks\n",
    "class CustomDenseLayer(tf.keras.layers.Layer):\n",
    "    def __init__(self, units, activation=None):\n",
    "        super(CustomDenseLayer, self).__init__()\n",
    "        self.units = units\n",
    "        self.activation = activation\n",
    "    def build(self, input_shape):\n",
    "        input_dim = input_shape[-1]\n",
    "        self.w = self.add_weight(\"weight\", shape=(input_dim, self.units), initializer=\"random_normal\", trainable=True)\n",
    "        self.b = self.add_weight(\"bias\", shape=(self.units,), initializer=\"zeros\", trainable=True)\n",
    "    def call(self, inputs):\n",
    "        output = tf.matmul(inputs, self.w) + self.b\n",
    "        if self.activation is not None:\n",
    "            output = self.activation(output)\n",
    "        return output\n",
    "model = tf.keras.Sequential([\n",
    "    CustomDenseLayer(128, activation=tf.nn.relu),\n",
    "    CustomDenseLayer(128, activation=tf.nn.relu),\n",
    "    CustomDenseLayer(10, activation=tf.nn.softmax)\n",
    "])\n",
    "\n",
    "model.compile(loss='categorical_crossentropy', optimizer='adam', metrics=['accuracy'])\n",
    "\n",
    "model.fit(x_train, y_train, epochs=10, batch_size=10, verbose=1)\n",
    "\n",
    "loss, accuracy = model.evaluate(x_test, y_test)\n",
    "print(f'Test Loss: {loss}, Test Accuracy: {accuracy}')\n",
    "    "
   ]
  },
  {
   "cell_type": "code",
   "execution_count": null,
   "id": "393eaea4",
   "metadata": {},
   "outputs": [],
   "source": []
  }
 ],
 "metadata": {
  "kernelspec": {
   "display_name": "Python 3 (ipykernel)",
   "language": "python",
   "name": "python3"
  },
  "language_info": {
   "codemirror_mode": {
    "name": "ipython",
    "version": 3
   },
   "file_extension": ".py",
   "mimetype": "text/x-python",
   "name": "python",
   "nbconvert_exporter": "python",
   "pygments_lexer": "ipython3",
   "version": "3.9.17"
  }
 },
 "nbformat": 4,
 "nbformat_minor": 5
}
